{
  "nbformat": 4,
  "nbformat_minor": 0,
  "metadata": {
    "colab": {
      "name": "Basic Regression.ipynb",
      "provenance": [],
      "collapsed_sections": [],
      "toc_visible": true
    },
    "kernelspec": {
      "name": "python3",
      "display_name": "Python 3"
    }
  },
  "cells": [
    {
      "cell_type": "markdown",
      "metadata": {
        "id": "W5h0f4rOKXed",
        "colab_type": "text"
      },
      "source": [
        "#Regression Basic"
      ]
    },
    {
      "cell_type": "code",
      "metadata": {
        "id": "UdrWzlCLD7JI",
        "colab_type": "code",
        "colab": {}
      },
      "source": [
        "import tensorflow as tf\n",
        "import numpy as np"
      ],
      "execution_count": null,
      "outputs": []
    },
    {
      "cell_type": "code",
      "metadata": {
        "id": "YRsjOeFJEHtV",
        "colab_type": "code",
        "colab": {
          "base_uri": "https://localhost:8080/",
          "height": 134
        },
        "outputId": "b7ee07ce-8ae9-4b42-b347-1877e8f4053f"
      },
      "source": [
        "celsius_q = np.array([-40,-10,0,8,15,22,38],dtype=float)\n",
        "farenhit_q = np.array([-40,14,32,46,59,72,100],dtype=float)\n",
        "\n",
        "for i,c in enumerate(celsius_q):\n",
        "  print(c,farenhit_q[i])"
      ],
      "execution_count": null,
      "outputs": [
        {
          "output_type": "stream",
          "text": [
            "-40.0 -40.0\n",
            "-10.0 14.0\n",
            "0.0 32.0\n",
            "8.0 46.0\n",
            "15.0 59.0\n",
            "22.0 72.0\n",
            "38.0 100.0\n"
          ],
          "name": "stdout"
        }
      ]
    },
    {
      "cell_type": "code",
      "metadata": {
        "id": "zkvUY3slEycV",
        "colab_type": "code",
        "colab": {}
      },
      "source": [
        "l0 = tf.keras.layers.Dense(units=1,input_shape=[1])\n",
        "model = tf.keras.Sequential([\n",
        "                             tf.keras.layers.Dense(units=1,input_shape=[1])\n",
        "]) "
      ],
      "execution_count": null,
      "outputs": []
    },
    {
      "cell_type": "code",
      "metadata": {
        "id": "YjkhiZ68Ff95",
        "colab_type": "code",
        "colab": {
          "base_uri": "https://localhost:8080/",
          "height": 34
        },
        "outputId": "86b9c351-af5e-45a6-f252-b1e86c1120fb"
      },
      "source": [
        "model"
      ],
      "execution_count": null,
      "outputs": [
        {
          "output_type": "execute_result",
          "data": {
            "text/plain": [
              "<tensorflow.python.keras.engine.sequential.Sequential at 0x7fcfc7be9ba8>"
            ]
          },
          "metadata": {
            "tags": []
          },
          "execution_count": 6
        }
      ]
    },
    {
      "cell_type": "code",
      "metadata": {
        "id": "KwwYATRXFg0X",
        "colab_type": "code",
        "colab": {}
      },
      "source": [
        "model.compile(loss='mean_squared_error',optimizer=tf.keras.optimizers.Adam(0.1))"
      ],
      "execution_count": null,
      "outputs": []
    },
    {
      "cell_type": "code",
      "metadata": {
        "id": "E0MijNLuFxVT",
        "colab_type": "code",
        "colab": {
          "base_uri": "https://localhost:8080/",
          "height": 34
        },
        "outputId": "b9c06d07-5ead-4993-ffe0-4206cc53da8e"
      },
      "source": [
        "history=model.fit(celsius_q,farenhit_q,epochs=500,verbose=False)\n",
        "print('Finished Training the Model')"
      ],
      "execution_count": null,
      "outputs": [
        {
          "output_type": "stream",
          "text": [
            "Finished Training the Model\n"
          ],
          "name": "stdout"
        }
      ]
    },
    {
      "cell_type": "code",
      "metadata": {
        "id": "GhW8WklZGEVj",
        "colab_type": "code",
        "colab": {
          "base_uri": "https://localhost:8080/",
          "height": 296
        },
        "outputId": "5242e6bb-f745-42ca-cadc-39d78822e6eb"
      },
      "source": [
        "import matplotlib.pyplot as plt\n",
        "plt.xlabel('Epoch Number')\n",
        "plt.ylabel('Loss Magnitude')\n",
        "plt.plot(history.history['loss'])"
      ],
      "execution_count": null,
      "outputs": [
        {
          "output_type": "execute_result",
          "data": {
            "text/plain": [
              "[<matplotlib.lines.Line2D at 0x7fcfbd05c198>]"
            ]
          },
          "metadata": {
            "tags": []
          },
          "execution_count": 10
        },
        {
          "output_type": "display_data",
          "data": {
            "image/png": "[encoded data removed]",
            "text/plain": [
              "<Figure size 432x288 with 1 Axes>"
            ]
          },
          "metadata": {
            "tags": [],
            "needs_background": "light"
          }
        }
      ]
    },
    {
      "cell_type": "code",
      "metadata": {
        "id": "tgEpL7vZGXEx",
        "colab_type": "code",
        "colab": {
          "base_uri": "https://localhost:8080/",
          "height": 34
        },
        "outputId": "e57db833-f6c6-4f41-e111-d9f5c91e7da2"
      },
      "source": [
        "print(model.predict([100.0]))"
      ],
      "execution_count": null,
      "outputs": [
        {
          "output_type": "stream",
          "text": [
            "[[211.33841]]\n"
          ],
          "name": "stdout"
        }
      ]
    },
    {
      "cell_type": "code",
      "metadata": {
        "id": "qh6fCbmdH0Uo",
        "colab_type": "code",
        "colab": {
          "base_uri": "https://localhost:8080/",
          "height": 252
        },
        "outputId": "5eb5d410-b02f-456e-a374-05438b93fc88"
      },
      "source": [
        "l0 = tf.keras.layers.Dense(units=4, input_shape=[1])\n",
        "l1 = tf.keras.layers.Dense(units=4)\n",
        "l2 = tf.keras.layers.Dense(units=1)\n",
        "\n",
        "model = tf.keras.Sequential([l0, l1, l2])\n",
        "\n",
        "model.compile(loss='mean_squared_error', optimizer=tf.keras.optimizers.Adam(0.1))\n",
        "model.fit(celsius_q, farenhit_q, epochs=500, verbose=False)\n",
        "\n",
        "print(\"Finished training the model\")\n",
        "\n",
        "print(model.predict([100.0]))\n",
        "\n",
        "print(\"Model predicts that 100 degrees Celsius is: {} degrees Fahrenheit\".format(model.predict([100.0])))\n",
        "print(\"These are the l0 variables: {}\".format(l0.get_weights()))\n",
        "print(\"These are the l1 variables: {}\".format(l1.get_weights()))\n",
        "print(\"These are the l2 variables: {}\".format(l2.get_weights()))"
      ],
      "execution_count": null,
      "outputs": [
        {
          "output_type": "stream",
          "text": [
            "Finished training the model\n",
            "[[211.74744]]\n",
            "Model predicts that 100 degrees Celsius is: [[211.74744]] degrees Fahrenheit\n",
            "These are the l0 variables: [array([[-0.00704171, -0.77475697,  0.71198076, -0.2162176 ]],\n",
            "      dtype=float32), array([-2.1980138, -3.4053395,  3.410992 ,  2.8374093], dtype=float32)]\n",
            "These are the l1 variables: [array([[ 0.24356487, -0.5077275 , -0.32228887, -0.13827847],\n",
            "       [ 0.28547263, -0.98123425,  0.14670743, -0.705589  ],\n",
            "       [-0.4972941 ,  0.3366881 ,  1.0965767 , -0.15368348],\n",
            "       [-1.2746845 ,  1.300667  ,  0.11140118, -0.13499936]],\n",
            "      dtype=float32), array([-2.583904 ,  3.2681653,  2.984058 ,  2.6966605], dtype=float32)]\n",
            "These are the l2 variables: [array([[-0.6151763 ],\n",
            "       [ 1.1667982 ],\n",
            "       [ 0.7992166 ],\n",
            "       [ 0.54366356]], dtype=float32), array([3.2686303], dtype=float32)]\n"
          ],
          "name": "stdout"
        }
      ]
    },
    {
      "cell_type": "code",
      "metadata": {
        "id": "zWvhlnTWIDLP",
        "colab_type": "code",
        "colab": {}
      },
      "source": [
        ""
      ],
      "execution_count": null,
      "outputs": []
    }
  ]
}